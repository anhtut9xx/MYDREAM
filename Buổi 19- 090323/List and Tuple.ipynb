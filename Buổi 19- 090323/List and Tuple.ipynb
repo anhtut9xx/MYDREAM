{
 "cells": [
  {
   "cell_type": "markdown",
   "metadata": {},
   "source": [
    "## Review: type()"
   ]
  },
  {
   "cell_type": "code",
   "execution_count": null,
   "metadata": {},
   "outputs": [],
   "source": [
    "# Python có 4 kiểu dữ liệu cơ bản"
   ]
  },
  {
   "cell_type": "code",
   "execution_count": 2,
   "metadata": {},
   "outputs": [
    {
     "name": "stdout",
     "output_type": "stream",
     "text": [
      "<class 'int'>\n",
      "<class 'float'>\n"
     ]
    }
   ],
   "source": [
    "a = 5\n",
    "print(type(a))\n",
    "b = 2.5\n",
    "print(type(b))"
   ]
  },
  {
   "cell_type": "code",
   "execution_count": 3,
   "metadata": {},
   "outputs": [
    {
     "name": "stdout",
     "output_type": "stream",
     "text": [
      "a là dang só nguyên\n"
     ]
    }
   ],
   "source": [
    "a = 5\n",
    "if type(a) == int:\n",
    "    print(\"a là dang só nguyên\")\n",
    "else:\n",
    "    print(\" a ko phải là dạng số nguyên\")"
   ]
  },
  {
   "cell_type": "markdown",
   "metadata": {},
   "source": [
    "## list là gì?"
   ]
  },
  {
   "cell_type": "code",
   "execution_count": null,
   "metadata": {},
   "outputs": [],
   "source": [
    "# hãy nhập vào một số bất kỳ và lưu nó vào n\n",
    "# hây nhập n số và luuw n số đó lại vào biến\n",
    "\n"
   ]
  },
  {
   "cell_type": "code",
   "execution_count": null,
   "metadata": {},
   "outputs": [],
   "source": [
    "# ví dụ\n",
    "L_so = []\n",
    "# L là list rỗng"
   ]
  },
  {
   "cell_type": "code",
   "execution_count": 4,
   "metadata": {},
   "outputs": [
    {
     "name": "stdout",
     "output_type": "stream",
     "text": [
      "[2, 7, 15]\n"
     ]
    }
   ],
   "source": [
    "L = [2,7,15]\n",
    "print(L)"
   ]
  },
  {
   "cell_type": "code",
   "execution_count": 5,
   "metadata": {},
   "outputs": [
    {
     "name": "stdout",
     "output_type": "stream",
     "text": [
      "[2, 'Xin chào', 15]\n"
     ]
    }
   ],
   "source": [
    "L = [2,\"Xin chào\",15]\n",
    "print(L)"
   ]
  },
  {
   "cell_type": "code",
   "execution_count": 7,
   "metadata": {},
   "outputs": [
    {
     "name": "stdout",
     "output_type": "stream",
     "text": [
      "[3, 'Xin chào', 3]\n"
     ]
    }
   ],
   "source": [
    "# Sử dụng list\n",
    "L = []\n",
    "L.append(3)\n",
    "L.append(\"Xin chào\")\n",
    "L.append(3)\n",
    "print(L)"
   ]
  },
  {
   "cell_type": "code",
   "execution_count": null,
   "metadata": {},
   "outputs": [],
   "source": [
    "\n",
    "n = int(input(\" Nhập vào n: \"))\n",
    "\n"
   ]
  },
  {
   "cell_type": "code",
   "execution_count": 8,
   "metadata": {},
   "outputs": [
    {
     "name": "stdout",
     "output_type": "stream",
     "text": [
      "10\n",
      "12\n",
      "13\n",
      "14\n"
     ]
    }
   ],
   "source": [
    "L = [10, 12, 13,14]\n",
    "for i in range(4):\n",
    "    print(L[i])"
   ]
  },
  {
   "cell_type": "code",
   "execution_count": null,
   "metadata": {},
   "outputs": [],
   "source": [
    "L = [10, 12, 13,14]"
   ]
  },
  {
   "cell_type": "markdown",
   "metadata": {},
   "source": [
    "### Thực hành: Viết chương trình tạo ra một list các string khác nhau và đếm tổng số lượng string dài hơn 3 kí tự"
   ]
  },
  {
   "cell_type": "code",
   "execution_count": 10,
   "metadata": {},
   "outputs": [
    {
     "name": "stdout",
     "output_type": "stream",
     "text": [
      "2\n"
     ]
    }
   ],
   "source": [
    "L = [\"xin chào\",\"a\",\"BCd\",\"Hello\",\"hi\"]\n",
    "\n",
    "count = 0\n",
    "\n",
    "for i in range(len(L)):\n",
    "    if len(L[i]) > 3:\n",
    "        count += 1\n",
    "print(count)"
   ]
  },
  {
   "cell_type": "code",
   "execution_count": 12,
   "metadata": {},
   "outputs": [
    {
     "name": "stdout",
     "output_type": "stream",
     "text": [
      "L có  chuỗi \"a\"\n"
     ]
    }
   ],
   "source": [
    "L = [\"xin chào\",\"a\",\"BCd\",\"Hello\",\"hi\"]\n",
    "\n",
    "if \"a\" in L:\n",
    "    print('L có  chuỗi \"a\"')\n",
    "else:\n",
    "    print('không có chuỗi \"a\"')"
   ]
  },
  {
   "cell_type": "code",
   "execution_count": 13,
   "metadata": {},
   "outputs": [
    {
     "name": "stdout",
     "output_type": "stream",
     "text": [
      "nhạp vào chuỗi: a\n",
      "True\n"
     ]
    }
   ],
   "source": [
    "L = [\"xin chào\",\"a\",\"BCd\",\"Hello\",\"hi\"]\n",
    "\n",
    "chuoi = input(\"nhạp vào chuỗi: \")\n",
    "\n",
    "print(chuoi in L)"
   ]
  },
  {
   "cell_type": "markdown",
   "metadata": {},
   "source": [
    "### Thực hành 2: Viết chương trình nhận vào 2 list và trả về True nếu 2 list có ít nhất 1 phần tử chung, ngược lại trả về False"
   ]
  },
  {
   "cell_type": "code",
   "execution_count": null,
   "metadata": {},
   "outputs": [],
   "source": [
    "def check_list(L1,L2):\n",
    "    for i in range(len(L1)):\n",
    "        if L1[i] in L2:\n",
    "            return True\n",
    "    return False\n",
    "\n",
    "print(check_list([2,3,4],[2,5,7]))\n",
    "print(check_list([2,3,4],[9,5,7]))"
   ]
  },
  {
   "cell_type": "markdown",
   "metadata": {},
   "source": [
    "## Các thao tác cơ bản với list"
   ]
  },
  {
   "cell_type": "markdown",
   "metadata": {},
   "source": [
    "### Kiểm tra độ dài list"
   ]
  },
  {
   "cell_type": "code",
   "execution_count": 14,
   "metadata": {
    "scrolled": true
   },
   "outputs": [
    {
     "name": "stdout",
     "output_type": "stream",
     "text": [
      "2\n",
      "7\n",
      "15\n",
      "3\n",
      "4\n",
      "5\n",
      "6\n",
      "8\n",
      "9\n"
     ]
    }
   ],
   "source": [
    "#cách 1\n",
    "L = [2,7,15,3,4,5,6,8,9]\n",
    "for i in range(len(L)):\n",
    "    print(L[i])"
   ]
  },
  {
   "cell_type": "code",
   "execution_count": 15,
   "metadata": {},
   "outputs": [
    {
     "name": "stdout",
     "output_type": "stream",
     "text": [
      "2\n",
      "7\n",
      "15\n",
      "3\n",
      "4\n",
      "5\n",
      "6\n",
      "8\n",
      "9\n"
     ]
    }
   ],
   "source": [
    "L = [2,7,15,3,4,5,6,8,9]\n",
    "for i in L:\n",
    "    print(i)"
   ]
  },
  {
   "cell_type": "markdown",
   "metadata": {},
   "source": [
    "### Truy cập phần tử trên list"
   ]
  },
  {
   "cell_type": "code",
   "execution_count": 16,
   "metadata": {},
   "outputs": [
    {
     "name": "stdout",
     "output_type": "stream",
     "text": [
      "[8, 9]\n"
     ]
    }
   ],
   "source": [
    "L = [2,7,15,3,4,5,6,8,9]\n",
    "# VIẾT ĐOẠN CODE ĐỂ TYHEEM 2 PHẦN TỬ CUỐI CỦA LIST L VÀO TRONG LIST CON\n",
    "L_con = []\n",
    "\n",
    "L_con.append(L[len(L)-2])\n",
    "L_con.append(L[len(L)-1])\n",
    "print(L_con)"
   ]
  },
  {
   "cell_type": "code",
   "execution_count": 1,
   "metadata": {},
   "outputs": [
    {
     "name": "stdout",
     "output_type": "stream",
     "text": [
      "[0, 1, 2, 3, 4, 5]\n",
      "2\n",
      "[0, 1, 100, 3, 4, 5]\n"
     ]
    }
   ],
   "source": [
    "number = [0,1,2,3,4,5]\n",
    "\n",
    "print(number)\n",
    "print(number[-4])\n",
    "\n",
    "number[2] = 100\n",
    "print(number)\n"
   ]
  },
  {
   "cell_type": "markdown",
   "metadata": {},
   "source": [
    "### Thực hành: Tạo một list 10 số tự nhiên và in ra các phần tử trong list"
   ]
  },
  {
   "cell_type": "code",
   "execution_count": null,
   "metadata": {},
   "outputs": [],
   "source": [
    "number = []"
   ]
  },
  {
   "cell_type": "markdown",
   "metadata": {},
   "source": [
    "### Thực hành 2: Tạo ra một list con chưa 2 phần tử cuối cùng từ list đã tạo ở trên"
   ]
  },
  {
   "cell_type": "code",
   "execution_count": 17,
   "metadata": {},
   "outputs": [
    {
     "name": "stdout",
     "output_type": "stream",
     "text": [
      "[8, 9]\n"
     ]
    }
   ],
   "source": [
    "L = [2,7,15,3,4,5,6,8,9]\n",
    "# VIẾT ĐOẠN CODE ĐỂ TYHEEM 2 PHẦN TỬ CUỐI CỦA LIST L VÀO TRONG LIST CON\n",
    "L_con = []\n",
    "\n",
    "L_con.append(L[len(L)-2])\n",
    "L_con.append(L[len(L)-1])\n",
    "print(L_con)"
   ]
  },
  {
   "cell_type": "code",
   "execution_count": 18,
   "metadata": {},
   "outputs": [
    {
     "name": "stdout",
     "output_type": "stream",
     "text": [
      "8\n"
     ]
    }
   ],
   "source": [
    "L = [2,7,15,3,4,5,6,8,9]\n",
    "L_con = L[-2]\n",
    "\n",
    "print(L_con)"
   ]
  },
  {
   "cell_type": "markdown",
   "metadata": {},
   "source": [
    "### Cộng list"
   ]
  },
  {
   "cell_type": "code",
   "execution_count": 19,
   "metadata": {},
   "outputs": [
    {
     "name": "stdout",
     "output_type": "stream",
     "text": [
      "[2, 3, 4, 4, 5, 6]\n"
     ]
    }
   ],
   "source": [
    "L1 = [2,3,4]\n",
    "L2 = [4,5,6]\n",
    "\n",
    "L = L1 + L2\n",
    "\n",
    "print(L)"
   ]
  },
  {
   "cell_type": "markdown",
   "metadata": {},
   "source": [
    "### Thực hành: Thêm học sinh vào lớp"
   ]
  },
  {
   "cell_type": "code",
   "execution_count": 6,
   "metadata": {},
   "outputs": [
    {
     "name": "stdout",
     "output_type": "stream",
     "text": [
      "['Andy', 'Bella', 'Cindy', 'Daniel', 'Emma', 'Ferb']\n",
      "['Andy', 'Bella', 'Cindy', 'Daniel', 'Emma', 'Ferb', 'Gina']\n",
      "['Andy', 'Bella', 'Cindy', 'Daniel', 'Emma', 'Ferb', 'Gina', 'Emma', 'Ferb']\n",
      "['Andy', 'Bella', 'Cindy', 'Daniel', 'Emma', 'Ferb', 'Gina', 'Emma']\n",
      "['Andy', 'Bella', 'Cindy', 'Daniel', 'Emma', 'Ferb']\n"
     ]
    }
   ],
   "source": [
    "# Tạo một list danh_sach_lop chứa tên của 4 học sinh khác nhau và một list hoc_sinh_moi chứa tên của\n",
    "# 2 học sinh mới vào lớp. Hãy thêm tên các học sinh mới vào list danh_sach_lop bằng cách cộng list.\n",
    "danh_sach_lop = ['Andy', 'Bella', 'Cindy', 'Daniel']\n",
    "hoc_sinh_moi = ['Emma', 'Ferb']\n",
    "\n",
    "\n",
    "\n",
    "danh_sach_lop += hoc_sinh_moi\n",
    "print(danh_sach_lop)\n",
    "\n",
    "danh_sach_lop.append('Gina') # thêm chuỗi vào giá trị\n",
    "print(danh_sach_lop)\n",
    "\n",
    "danh_sach_lop.extend(hoc_sinh_moi)\n",
    "print(danh_sach_lop)\n",
    "\n",
    "danh_sach_lop.pop()\n",
    "print(danh_sach_lop)\n",
    "\n",
    "danh_sach_lop = danh_sach_lop[:-2] # xóa 2 phần tử cuối\n",
    "print(danh_sach_lop)"
   ]
  },
  {
   "cell_type": "markdown",
   "metadata": {},
   "source": [
    "### Kiểm tra phần tử tồn tại trong list"
   ]
  },
  {
   "cell_type": "code",
   "execution_count": 21,
   "metadata": {},
   "outputs": [
    {
     "name": "stdout",
     "output_type": "stream",
     "text": [
      "[2, 3, 4, 14]\n"
     ]
    }
   ],
   "source": []
  },
  {
   "cell_type": "markdown",
   "metadata": {},
   "source": [
    "### Xóa phần tử khỏi list"
   ]
  },
  {
   "cell_type": "code",
   "execution_count": 22,
   "metadata": {},
   "outputs": [
    {
     "name": "stdout",
     "output_type": "stream",
     "text": [
      "[2, 3, 4, 14]\n"
     ]
    }
   ],
   "source": [
    "L = [2,3,4,8,9,13,14]\n",
    "L.remove(8)\n",
    "L.remove(9)\n",
    "L.remove(13)\n",
    "\n",
    "print(L)"
   ]
  },
  {
   "cell_type": "code",
   "execution_count": 23,
   "metadata": {},
   "outputs": [
    {
     "name": "stdout",
     "output_type": "stream",
     "text": [
      "Nhấp số nguyên: 13\n",
      "[15, 7, 10, 2, 4, 10, 15, 5, 15]\n"
     ]
    }
   ],
   "source": [
    "L = [15,7,10,2,13,4,10,15,5,15]\n",
    "\n",
    "x = int(input(\"Nhấp số nguyên: \"))\n",
    "\n",
    "for i in L:  \n",
    "    if i == x:\n",
    "        L.remove(i)\n",
    "\n",
    "print(L)"
   ]
  },
  {
   "cell_type": "markdown",
   "metadata": {},
   "source": [
    "### Sắp xếp list"
   ]
  },
  {
   "cell_type": "code",
   "execution_count": 24,
   "metadata": {},
   "outputs": [
    {
     "name": "stdout",
     "output_type": "stream",
     "text": [
      "[2, 4, 5, 7, 10, 10, 13, 15, 15, 15]\n"
     ]
    }
   ],
   "source": [
    "L = [15,7,10,2,13,4,10,15,5,15]\n",
    "\n",
    "L.sort()\n",
    "\n",
    "print(L)"
   ]
  },
  {
   "cell_type": "code",
   "execution_count": 25,
   "metadata": {},
   "outputs": [
    {
     "name": "stdout",
     "output_type": "stream",
     "text": [
      "[15, 15, 15, 13, 10, 10, 7, 5, 4, 2]\n"
     ]
    }
   ],
   "source": [
    "L = [15,7,10,2,13,4,10,15,5,15]\n",
    "\n",
    "L.sort(reverse=True)\n",
    "\n",
    "print(L)"
   ]
  },
  {
   "cell_type": "markdown",
   "metadata": {},
   "source": [
    "### Làm rỗng list"
   ]
  },
  {
   "cell_type": "code",
   "execution_count": 26,
   "metadata": {},
   "outputs": [
    {
     "name": "stdout",
     "output_type": "stream",
     "text": [
      "[15, 7, 10, 2, 13, 4, 10, 15, 5, 15]\n",
      "[]\n"
     ]
    }
   ],
   "source": [
    "L = [15,7,10,2,13,4,10,15,5,15]\n",
    "print(L)\n",
    "\n",
    "L = []\n",
    "\n",
    "print(L)"
   ]
  },
  {
   "cell_type": "markdown",
   "metadata": {},
   "source": [
    "### Copy list"
   ]
  },
  {
   "cell_type": "code",
   "execution_count": null,
   "metadata": {},
   "outputs": [],
   "source": []
  },
  {
   "cell_type": "markdown",
   "metadata": {},
   "source": [
    "## tuple"
   ]
  },
  {
   "cell_type": "code",
   "execution_count": 8,
   "metadata": {},
   "outputs": [
    {
     "name": "stdout",
     "output_type": "stream",
     "text": [
      "Python\n",
      "3-4-7\n",
      "2\n"
     ]
    }
   ],
   "source": [
    "info = (\"Python\", \"3-4-7\", 2)\n",
    "\n",
    "course_name, day, duration = info\n",
    "print(course_name)\n",
    "print(day)\n",
    "print(duration)"
   ]
  }
 ],
 "metadata": {
  "kernelspec": {
   "display_name": "Python 3 (ipykernel)",
   "language": "python",
   "name": "python3"
  },
  "language_info": {
   "codemirror_mode": {
    "name": "ipython",
    "version": 3
   },
   "file_extension": ".py",
   "mimetype": "text/x-python",
   "name": "python",
   "nbconvert_exporter": "python",
   "pygments_lexer": "ipython3",
   "version": "3.11.2"
  }
 },
 "nbformat": 4,
 "nbformat_minor": 4
}
