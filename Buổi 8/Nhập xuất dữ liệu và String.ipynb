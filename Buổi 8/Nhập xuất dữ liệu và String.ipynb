{
 "cells": [
  {
   "cell_type": "markdown",
   "id": "7ac14915",
   "metadata": {},
   "source": [
    "# Nhập xuất dữ liệu và String\n",
    "## Cách nhập xuất dữ liệu"
   ]
  },
  {
   "cell_type": "markdown",
   "id": "0f202ae8",
   "metadata": {},
   "source": [
    "### Xuất dữ liệu ra màn hình\n",
    "Để in các nội dung mà chúng ta mong muốn ra màn hình, ta sử dụng lệnh print()"
   ]
  },
  {
   "cell_type": "code",
   "execution_count": null,
   "id": "a6d3f260",
   "metadata": {},
   "outputs": [],
   "source": [
    "# Ví dụ: In ra nội dung \"python is very easy\"\n"
   ]
  },
  {
   "cell_type": "markdown",
   "id": "7733925a",
   "metadata": {},
   "source": [
    "### Các cách custom với lệnh print"
   ]
  },
  {
   "cell_type": "markdown",
   "id": "292ab570",
   "metadata": {},
   "source": [
    "Để in một nội dung kèm theo giá trị của biến, ta có các cách sau:"
   ]
  },
  {
   "cell_type": "code",
   "execution_count": null,
   "id": "20ff912c",
   "metadata": {},
   "outputs": [],
   "source": [
    "food_1 = \"chocolate\"\n",
    "food_2 = \"sandwich\""
   ]
  },
  {
   "cell_type": "code",
   "execution_count": 1,
   "id": "6407a448",
   "metadata": {},
   "outputs": [
    {
     "name": "stdout",
     "output_type": "stream",
     "text": [
      "I love chocolate and I hate sanwich\n"
     ]
    }
   ],
   "source": [
    "# In trực tiếp\n",
    "print(\"I love chocolate and I hate sanwich\")"
   ]
  },
  {
   "cell_type": "code",
   "execution_count": 3,
   "id": "27d098b8",
   "metadata": {},
   "outputs": [
    {
     "ename": "NameError",
     "evalue": "name 'food_1' is not defined",
     "output_type": "error",
     "traceback": [
      "\u001b[1;31m---------------------------------------------------------------------------\u001b[0m",
      "\u001b[1;31mNameError\u001b[0m                                 Traceback (most recent call last)",
      "Cell \u001b[1;32mIn[3], line 2\u001b[0m\n\u001b[0;32m      1\u001b[0m \u001b[38;5;66;03m# In bằng cách ghép các nội dung với nhau\u001b[39;00m\n\u001b[1;32m----> 2\u001b[0m \u001b[38;5;28mprint\u001b[39m(\u001b[38;5;124m\"\u001b[39m\u001b[38;5;124mI love\u001b[39m\u001b[38;5;124m\"\u001b[39m, \u001b[43mfood_1\u001b[49m, \u001b[38;5;124m\"\u001b[39m\u001b[38;5;124mand I hate\u001b[39m\u001b[38;5;124m\"\u001b[39m, food_2, sep\u001b[38;5;241m=\u001b[39m\u001b[38;5;124m\"\u001b[39m\u001b[38;5;124m+\u001b[39m\u001b[38;5;124m\"\u001b[39m)\n\u001b[0;32m      3\u001b[0m \u001b[38;5;28mprint\u001b[39m(\u001b[38;5;124m\"\u001b[39m\u001b[38;5;124mI love \u001b[39m\u001b[38;5;124m\"\u001b[39m \u001b[38;5;241m+\u001b[39m food_1 \u001b[38;5;241m+\u001b[39m \u001b[38;5;124m\"\u001b[39m\u001b[38;5;124m and I hate\u001b[39m\u001b[38;5;124m\"\u001b[39m \u001b[38;5;241m+\u001b[39m food_2)      \n",
      "\u001b[1;31mNameError\u001b[0m: name 'food_1' is not defined"
     ]
    }
   ],
   "source": [
    "# In bằng cách ghép các nội dung với nhau\n",
    "print(\"I love\", food_1, \"and I hate\", food_2, sep=\"+\")\n",
    "print(\"I love \" + food_1 + \" and I hate \" + food_2)      "
   ]
  },
  {
   "cell_type": "code",
   "execution_count": 3,
   "id": "717666f2",
   "metadata": {},
   "outputs": [
    {
     "ename": "SyntaxError",
     "evalue": "unterminated string literal (detected at line 2) (3938696022.py, line 2)",
     "output_type": "error",
     "traceback": [
      "\u001b[1;36m  Cell \u001b[1;32mIn[3], line 2\u001b[1;36m\u001b[0m\n\u001b[1;33m    print(f\"I love {food_1} and I hate {food_2})\u001b[0m\n\u001b[1;37m          ^\u001b[0m\n\u001b[1;31mSyntaxError\u001b[0m\u001b[1;31m:\u001b[0m unterminated string literal (detected at line 2)\n"
     ]
    }
   ],
   "source": [
    "# Sử dụng String Format\n",
    "print(f\"I love {food_1} and I hate {food_2})"
   ]
  },
  {
   "cell_type": "code",
   "execution_count": 4,
   "id": "c7276e05",
   "metadata": {},
   "outputs": [
    {
     "name": "stdout",
     "output_type": "stream",
     "text": [
      "I love"
     ]
    },
    {
     "ename": "NameError",
     "evalue": "name 'food_1' is not defined",
     "output_type": "error",
     "traceback": [
      "\u001b[1;31m---------------------------------------------------------------------------\u001b[0m",
      "\u001b[1;31mNameError\u001b[0m                                 Traceback (most recent call last)",
      "Cell \u001b[1;32mIn[4], line 3\u001b[0m\n\u001b[0;32m      1\u001b[0m \u001b[38;5;66;03m# Sử dụng nhiều lệnh print\u001b[39;00m\n\u001b[0;32m      2\u001b[0m \u001b[38;5;28mprint\u001b[39m(\u001b[38;5;124m\"\u001b[39m\u001b[38;5;124mI love\u001b[39m\u001b[38;5;124m\"\u001b[39m, end\u001b[38;5;241m=\u001b[39m\u001b[38;5;124m\"\u001b[39m\u001b[38;5;124m\"\u001b[39m)\n\u001b[1;32m----> 3\u001b[0m \u001b[38;5;28mprint\u001b[39m(\u001b[43mfood_1\u001b[49m, end\u001b[38;5;241m=\u001b[39m\u001b[38;5;124m\"\u001b[39m\u001b[38;5;124m\"\u001b[39m)\n\u001b[0;32m      4\u001b[0m \u001b[38;5;28mprint\u001b[39m(\u001b[38;5;124m\"\u001b[39m\u001b[38;5;124m and I hate \u001b[39m\u001b[38;5;124m\"\u001b[39m, end\u001b[38;5;241m=\u001b[39m\u001b[38;5;124m\"\u001b[39m\u001b[38;5;124m\"\u001b[39m)\n\u001b[0;32m      5\u001b[0m \u001b[38;5;28mprint\u001b[39m(food_2)\n",
      "\u001b[1;31mNameError\u001b[0m: name 'food_1' is not defined"
     ]
    }
   ],
   "source": [
    "# Sử dụng nhiều lệnh print\n",
    "print(\"I love\", end=\"\")\n",
    "print(food_1, end=\"\")\n",
    "print(\" and I hate \", end=\"\")\n",
    "print(food_2)"
   ]
  },
  {
   "cell_type": "markdown",
   "id": "e10788fb",
   "metadata": {},
   "source": [
    "### Nhập dữ liệu\n",
    "Để nhập dữ liệu vào chương trình python, chúng ta sử dụng hàm input()"
   ]
  },
  {
   "cell_type": "code",
   "execution_count": 1,
   "id": "b8b8afd3",
   "metadata": {},
   "outputs": [
    {
     "name": "stdout",
     "output_type": "stream",
     "text": [
      "please input your name: Tuyen\n",
      "Tuyen\n",
      "<class 'str'>\n"
     ]
    }
   ],
   "source": [
    "name = input(\"please input your name: \")\n",
    "print(name)\n",
    "print(type(name))"
   ]
  },
  {
   "cell_type": "code",
   "execution_count": 2,
   "id": "9fdf226e",
   "metadata": {},
   "outputs": [
    {
     "name": "stdout",
     "output_type": "stream",
     "text": [
      "Please input a nymber: 191\n",
      "191\n",
      "<class 'int'>\n"
     ]
    }
   ],
   "source": [
    "number = int(input(\"Please input a nymber: \"))\n",
    "print(number)\n",
    "print(type(number))"
   ]
  },
  {
   "cell_type": "markdown",
   "id": "337f9c15",
   "metadata": {},
   "source": [
    "#### Thực hành: Viết chương trình nhập vào chiều dài và chiều rộng của hình chữ nhật, sau đó in ra chu vi và diện tích của hình chữ nhật đó"
   ]
  },
  {
   "cell_type": "code",
   "execution_count": 2,
   "id": "add68103",
   "metadata": {},
   "outputs": [
    {
     "name": "stdout",
     "output_type": "stream",
     "text": [
      "Enter length: 10\n",
      "10\n",
      "Enter width: 5\n",
      "5\n"
     ]
    }
   ],
   "source": [
    "# Nhập các kích thước của hình chữ nhật\n",
    "chieu_dai = int(input(\"Enter length: \"))\n",
    "print(chieu_dai)\n",
    "chieu_rong = int(input(\"Enter width: \"))\n",
    "print(chieu_rong)"
   ]
  },
  {
   "cell_type": "code",
   "execution_count": 5,
   "id": "7a1cd73e",
   "metadata": {},
   "outputs": [],
   "source": [
    "# Tính toán chu vi, diện tích\n",
    "Chu_vi = (chieu_dai + chieu_rong) * 2\n",
    "dien_tich = chieu_dai * chieu_rong"
   ]
  },
  {
   "cell_type": "code",
   "execution_count": 10,
   "id": "d0adf735",
   "metadata": {},
   "outputs": [
    {
     "name": "stdout",
     "output_type": "stream",
     "text": [
      "30\n",
      "50\n",
      "chu vi: 30 dien tich: 50\n"
     ]
    }
   ],
   "source": [
    "# In kết quả ra màn hình bằng 3 cách\n",
    "print(Chu_vi)\n",
    "print(dien_tich)\n",
    "#cách 2:\n",
    "print(\"chu vi:\", Chu_vi, \"dien tich:\", dien_tich)\n",
    "\n",
    "#cách 3:\n",
    "print(f\"chu vi: )\n",
    "\n"
   ]
  },
  {
   "cell_type": "markdown",
   "id": "fb54cb77",
   "metadata": {},
   "source": [
    "#### Thực hành: Viết chương trình nhập vào số đo cạnh và mã màu của tam giác đều, sau đó sử dụng turtle để vẽ ra hình tam giác có số đo và màu tương ứng"
   ]
  },
  {
   "cell_type": "code",
   "execution_count": 1,
   "id": "7583b308",
   "metadata": {},
   "outputs": [
    {
     "name": "stdout",
     "output_type": "stream",
     "text": [
      "Please input side of triangle: 100\n",
      "Please input triangle color: red\n"
     ]
    }
   ],
   "source": [
    "import turtle\n",
    "\n",
    "side = int(input(\"Please input side of triangle: \"))\n",
    "color = input(\"Please input triangle color: \")\n",
    "\n",
    "pen = turtle.Turtle()\n",
    "pen.fillcolor(color)\n",
    "\n",
    "pen.begin_fill()\n",
    "pen.circle(side, steps=3)\n",
    "pen.end_fill()\n",
    "\n",
    "turtle.done()"
   ]
  },
  {
   "cell_type": "markdown",
   "id": "fa7cb208",
   "metadata": {},
   "source": [
    "## Cú pháp import"
   ]
  },
  {
   "cell_type": "markdown",
   "id": "ab2a2ea5",
   "metadata": {},
   "source": [
    "Để sử dụng một module từ bên ngoài, chúng ta sẽ sử dụng từ khóa import. Sau đây là ví dụ về một số cách import phổ biến."
   ]
  },
  {
   "cell_type": "markdown",
   "id": "bd6de377",
   "metadata": {},
   "source": [
    "### Random một giá trị ngẫu nhiên"
   ]
  },
  {
   "cell_type": "code",
   "execution_count": null,
   "id": "ce5547f5",
   "metadata": {},
   "outputs": [],
   "source": []
  },
  {
   "cell_type": "markdown",
   "id": "dfa93dc0",
   "metadata": {},
   "source": [
    "### Thực hiện các phép toán số học"
   ]
  },
  {
   "cell_type": "code",
   "execution_count": 8,
   "id": "4f06f722",
   "metadata": {},
   "outputs": [],
   "source": [
    "# import toàn bộ module"
   ]
  },
  {
   "cell_type": "code",
   "execution_count": null,
   "id": "6b9e471b",
   "metadata": {},
   "outputs": [],
   "source": [
    "# import một phần trong module"
   ]
  },
  {
   "cell_type": "markdown",
   "id": "391969e7",
   "metadata": {},
   "source": [
    "## Xử lý String trong python"
   ]
  },
  {
   "cell_type": "markdown",
   "id": "ab461669",
   "metadata": {},
   "source": [
    "### String là gì?\n",
    "String là một chuỗi gồm các ký tự Unicode"
   ]
  },
  {
   "cell_type": "markdown",
   "id": "94a27b90",
   "metadata": {},
   "source": [
    "### Khởi tạo một string"
   ]
  },
  {
   "cell_type": "code",
   "execution_count": null,
   "id": "b14f4fcc",
   "metadata": {},
   "outputs": [],
   "source": [
    "# one-line string\n",
    "course_name = \"Python Fundamental\""
   ]
  },
  {
   "cell_type": "code",
   "execution_count": null,
   "id": "9cc506a7",
   "metadata": {},
   "outputs": [],
   "source": [
    "# multi-line string\n"
   ]
  },
  {
   "cell_type": "markdown",
   "id": "8f4270fd",
   "metadata": {},
   "source": [
    "### Các thao tác phổ biến với string"
   ]
  },
  {
   "cell_type": "code",
   "execution_count": 2,
   "id": "c825f890",
   "metadata": {},
   "outputs": [
    {
     "name": "stdout",
     "output_type": "stream",
     "text": [
      "18\n"
     ]
    }
   ],
   "source": [
    "# Kiểm tra độ dài string\n",
    "course_name = \"Python Fundamental\"\n",
    "print(len(course_name))"
   ]
  },
  {
   "cell_type": "code",
   "execution_count": 3,
   "id": "6de96621",
   "metadata": {},
   "outputs": [
    {
     "name": "stdout",
     "output_type": "stream",
     "text": [
      "y\n"
     ]
    }
   ],
   "source": [
    "# Truy xuất ký tự bằng cơ chế indexing và reverse indexing\n",
    "content = \"Python\"\n",
    "print(content[1])\n",
    "\n",
    "#reverse indexing\n",
    "print(content )"
   ]
  },
  {
   "cell_type": "markdown",
   "id": "a4f949d9",
   "metadata": {},
   "source": [
    "#### Thực hành: Viết chương trình nhập vào một chuỗi bất kỳ, sau đó in ra ký tự đầu tiên và ký tự cuối cùng của chuỗi đó."
   ]
  },
  {
   "cell_type": "code",
   "execution_count": 4,
   "id": "14833f18",
   "metadata": {},
   "outputs": [
    {
     "name": "stdout",
     "output_type": "stream",
     "text": [
      " Nhạp ten: tuyen\n",
      "t\n",
      "n\n"
     ]
    }
   ],
   "source": [
    "content = input(\" Nhạp ten: \")\n",
    "print(content[0])\n",
    "print(content[-1])"
   ]
  },
  {
   "cell_type": "code",
   "execution_count": null,
   "id": "9aad2f16",
   "metadata": {},
   "outputs": [],
   "source": [
    "# Cắt string theo index"
   ]
  },
  {
   "cell_type": "code",
   "execution_count": null,
   "id": "6ec63f90",
   "metadata": {},
   "outputs": [],
   "source": [
    "# Ghép chuỗi và lặp chuỗi"
   ]
  },
  {
   "cell_type": "markdown",
   "id": "84c2dcb9",
   "metadata": {},
   "source": [
    "#### Thực hành: Xử lý và in ra các thông tin tương ứng trong chuỗi"
   ]
  },
  {
   "cell_type": "code",
   "execution_count": null,
   "id": "cd71f135",
   "metadata": {},
   "outputs": [],
   "source": []
  },
  {
   "cell_type": "markdown",
   "id": "7cbd965f",
   "metadata": {},
   "source": [
    "### Các hàm thông dụng khi xử lý string"
   ]
  },
  {
   "cell_type": "code",
   "execution_count": null,
   "id": "eb5932a1",
   "metadata": {},
   "outputs": [],
   "source": [
    "# len"
   ]
  },
  {
   "cell_type": "code",
   "execution_count": null,
   "id": "6bef6d33",
   "metadata": {},
   "outputs": [],
   "source": [
    "# count"
   ]
  },
  {
   "cell_type": "code",
   "execution_count": null,
   "id": "1582bbd8",
   "metadata": {},
   "outputs": [],
   "source": [
    "# upper, lower"
   ]
  },
  {
   "cell_type": "code",
   "execution_count": null,
   "id": "0d08f708",
   "metadata": {},
   "outputs": [],
   "source": [
    "# lstrip, rstrip, strip"
   ]
  },
  {
   "cell_type": "code",
   "execution_count": null,
   "id": "62180d52",
   "metadata": {},
   "outputs": [],
   "source": [
    "# split"
   ]
  },
  {
   "cell_type": "markdown",
   "id": "032ba1fc",
   "metadata": {},
   "source": []
  }
 ],
 "metadata": {
  "kernelspec": {
   "display_name": "Python 3 (ipykernel)",
   "language": "python",
   "name": "python3"
  },
  "language_info": {
   "codemirror_mode": {
    "name": "ipython",
    "version": 3
   },
   "file_extension": ".py",
   "mimetype": "text/x-python",
   "name": "python",
   "nbconvert_exporter": "python",
   "pygments_lexer": "ipython3",
   "version": "3.11.1"
  }
 },
 "nbformat": 4,
 "nbformat_minor": 5
}
